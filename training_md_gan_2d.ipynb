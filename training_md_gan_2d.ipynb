{
 "cells": [
  {
   "cell_type": "code",
   "execution_count": 1,
   "metadata": {
    "collapsed": false,
    "pycharm": {
     "is_executing": false,
     "name": "#%%\n"
    }
   },
   "outputs": [],
   "source": [
    "import torch\n",
    "from torch import optim\n",
    "from tqdm import tqdm\n",
    "# Imports for this repository\n",
    "from simplex_generator import simplex_params\n",
    "from md_gan_modules import LambdaNetwork, Discriminator, Generator\n",
    "from gmm_data_generator import load_db\n",
    "from numpy_dataset import NumpyDataset\n",
    "from md_gan_training import MDGANTraining,gaussian_likelihood_sum"
   ]
  },
  {
   "cell_type": "markdown",
   "metadata": {
    "collapsed": false,
    "pycharm": {
     "name": "#%% md\n"
    }
   },
   "source": [
    "# Fix Parameters"
   ]
  },
  {
   "cell_type": "code",
   "execution_count": 5,
   "metadata": {
    "collapsed": false,
    "pycharm": {
     "is_executing": false,
     "name": "#%%\n"
    }
   },
   "outputs": [],
   "source": [
    "PARAMS = {'batch_size': 512,\n",
    "          'zdim': 2,\n",
    "          'gamma':0.5,\n",
    "          'beta1':0.5,\n",
    "          'beta2':0.999,\n",
    "          'n_lr_steps':3,\n",
    "          'lambda_training_iterations':10001,\n",
    "          'epochs':100, #1000\n",
    "          'eta_lambda': 0.01,\n",
    "          'e_dim': 9,\n",
    "          'lr_d': 1e-3,\n",
    "          'lr_g': 1e-3,\n",
    "          'epsilon': 1e-8,  # for avoiding numerical instabilities\n",
    "          'samp_num_gen': 2500}"
   ]
  },
  {
   "cell_type": "code",
   "execution_count": 3,
   "metadata": {
    "collapsed": false,
    "pycharm": {
     "is_executing": false,
     "name": "#%%\n"
    }
   },
   "outputs": [
    {
     "name": "stdout",
     "output_type": "stream",
     "text": [
      "Current Working Device is set to:cuda\n"
     ]
    }
   ],
   "source": [
    "working_device = torch.device(\"cuda\" if torch.cuda.is_available() else \"cpu\")\n",
    "simplex = simplex_params(PARAMS['e_dim'], working_device) # Create Simplex\n",
    "print(\"Current Working Device is set to:\" + str(working_device))"
   ]
  },
  {
   "cell_type": "markdown",
   "metadata": {
    "collapsed": false,
    "pycharm": {
     "name": "#%% md\n"
    }
   },
   "source": [
    "# Search for $\\lambda$"
   ]
  },
  {
   "cell_type": "code",
   "execution_count": null,
   "metadata": {
    "collapsed": false,
    "pycharm": {
     "is_executing": false,
     "name": "#%%\n"
    }
   },
   "outputs": [
    {
     "name": "stderr",
     "output_type": "stream",
     "text": [
      " 11%|█         | 1075/10001 [00:02<00:21, 411.65it/s]"
     ]
    },
    {
     "name": "stdout",
     "output_type": "stream",
     "text": [
      "Lambda Loss:-3.538745641708374\n"
     ]
    },
    {
     "name": "stderr",
     "output_type": "stream",
     "text": [
      " 21%|██        | 2095/10001 [00:05<00:17, 459.59it/s]"
     ]
    },
    {
     "name": "stdout",
     "output_type": "stream",
     "text": [
      "Lambda Loss:-3.538745641708374\n"
     ]
    },
    {
     "name": "stderr",
     "output_type": "stream",
     "text": [
      " 31%|███       | 3075/10001 [00:07<00:15, 441.99it/s]"
     ]
    },
    {
     "name": "stdout",
     "output_type": "stream",
     "text": [
      "Lambda Loss:-3.538745641708374\n"
     ]
    },
    {
     "name": "stderr",
     "output_type": "stream",
     "text": [
      " 40%|████      | 4038/10001 [00:09<00:12, 461.01it/s]"
     ]
    },
    {
     "name": "stdout",
     "output_type": "stream",
     "text": [
      "Lambda Loss:-3.538745641708374\n"
     ]
    },
    {
     "name": "stderr",
     "output_type": "stream",
     "text": [
      " 50%|█████     | 5045/10001 [00:12<00:13, 370.07it/s]"
     ]
    },
    {
     "name": "stdout",
     "output_type": "stream",
     "text": [
      "Lambda Loss:-3.538745641708374\n"
     ]
    },
    {
     "name": "stderr",
     "output_type": "stream",
     "text": [
      " 61%|██████    | 6061/10001 [00:14<00:09, 405.35it/s]"
     ]
    },
    {
     "name": "stdout",
     "output_type": "stream",
     "text": [
      "Lambda Loss:-3.538745641708374\n"
     ]
    },
    {
     "name": "stderr",
     "output_type": "stream",
     "text": [
      " 71%|███████   | 7080/10001 [00:16<00:05, 511.30it/s]"
     ]
    },
    {
     "name": "stdout",
     "output_type": "stream",
     "text": [
      "Lambda Loss:-3.538745641708374\n"
     ]
    },
    {
     "name": "stderr",
     "output_type": "stream",
     "text": [
      " 81%|████████  | 8077/10001 [00:18<00:05, 383.41it/s]"
     ]
    },
    {
     "name": "stdout",
     "output_type": "stream",
     "text": [
      "Lambda Loss:-3.538745641708374\n"
     ]
    },
    {
     "name": "stderr",
     "output_type": "stream",
     "text": [
      " 91%|█████████ | 9059/10001 [00:21<00:02, 396.38it/s]"
     ]
    },
    {
     "name": "stdout",
     "output_type": "stream",
     "text": [
      "Lambda Loss:-3.538745641708374\n"
     ]
    },
    {
     "name": "stderr",
     "output_type": "stream",
     "text": [
      "100%|██████████| 10001/10001 [00:23<00:00, 417.17it/s]"
     ]
    },
    {
     "name": "stdout",
     "output_type": "stream",
     "text": [
      "Lambda Loss:-3.538745641708374\n",
      "34.423709869384766\n"
     ]
    },
    {
     "name": "stderr",
     "output_type": "stream",
     "text": [
      "\n"
     ]
    }
   ],
   "source": [
    "lambda_net = LambdaNetwork(PARAMS['e_dim']).to(working_device)\n",
    "lambda_training_data = torch.tensor([1.0], device=working_device, dtype=torch.float32, requires_grad=False)\n",
    "optimizer_lambda = optim.Adam(lambda_net.parameters(), lr=PARAMS['eta_lambda'])\n",
    "\n",
    "for i in tqdm(range(PARAMS['lambda_training_iterations'])):\n",
    "    optimizer_lambda.zero_grad()\n",
    "    e = lambda_net(lambda_training_data)\n",
    "    lambda_lk = gaussian_likelihood_sum(e, simplex)\n",
    "    lambda_loss = -torch.log(PARAMS['epsilon'] + lambda_lk).mean()\n",
    "    if i % 2500 == 0 and i > 0:\n",
    "        print(\"Lambda Loss:\" + str(lambda_loss.item()))\n",
    "        for group in optimizer_lambda.param_groups:\n",
    "            group['lr'] = group['lr'] * PARAMS['gamma']\n",
    "    lambda_loss.backward()\n",
    "    optimizer_lambda.step()\n",
    "e = lambda_net(lambda_training_data)\n",
    "lambda_value = gaussian_likelihood_sum(e, simplex).sum().item()\n",
    "print(lambda_value)"
   ]
  },
  {
   "cell_type": "code",
   "execution_count": 4,
   "metadata": {},
   "outputs": [],
   "source": [
    "lambda_value = 34.43 # I put it manually here so that I don't have to run the last cell again and again if I didn't change the parameters"
   ]
  },
  {
   "cell_type": "markdown",
   "metadata": {
    "collapsed": false,
    "pycharm": {
     "name": "#%% md\n"
    }
   },
   "source": [
    "# Train Generator and Discriminator"
   ]
  },
  {
   "cell_type": "code",
   "execution_count": 6,
   "metadata": {
    "collapsed": false,
    "pycharm": {
     "is_executing": false,
     "name": "#%%\n"
    }
   },
   "outputs": [
    {
     "name": "stderr",
     "output_type": "stream",
     "text": [
      "/tmp/ipykernel_2750/3118558303.py:2: FutureWarning: You are using `torch.load` with `weights_only=False` (the current default value), which uses the default pickle module implicitly. It is possible to construct malicious pickle data which will execute arbitrary code during unpickling (See https://github.com/pytorch/pytorch/blob/main/SECURITY.md#untrusted-models for more details). In a future release, the default value for `weights_only` will be flipped to `True`. This limits the functions that could be executed during unpickling. Arbitrary objects will no longer be allowed to be loaded via this mode unless they are explicitly allowlisted by the user via `torch.serialization.add_safe_globals`. We recommend you start setting `weights_only=True` for any use case where you don't have full control of the loaded file. Please open an issue on GitHub for any issues related to this experimental feature.\n",
      "  net_g.load_state_dict(torch.load(\"generator_9.pt\")) # To be taken out if one wants to start from zero\n"
     ]
    },
    {
     "name": "stdout",
     "output_type": "stream",
     "text": [
      "Learning rate steps: [25, 50, 75]\n",
      "mu_vector.shape : (9, 2)\n",
      "variance.shape : (9,)\n",
      "Start training...\n"
     ]
    },
    {
     "name": "stderr",
     "output_type": "stream",
     "text": [
      "  0%|          | 0/100 [00:00<?, ?it/s, d_loss=-5.68, g_loss=2.85] /home/noambsf/miniconda3/envs/datalab/lib/python3.12/site-packages/torch/optim/lr_scheduler.py:232: UserWarning: The epoch parameter in `scheduler.step()` was not necessary and is being deprecated where possible. Please use `scheduler.step()` to step the scheduler. During the deprecation, if epoch is different from None, the closed form is used instead of the new chainable form, where available. Please open an issue if you are unable to replicate your use case: https://github.com/pytorch/pytorch/issues/new/choose.\n",
      "  warnings.warn(EPOCH_DEPRECATION_WARNING, UserWarning)\n",
      "100%|██████████| 100/100 [00:26<00:00,  3.73it/s, d_loss=-5.69, g_loss=2.85]\n"
     ]
    }
   ],
   "source": [
    "net_g = Generator(PARAMS['zdim']).to(working_device) # Init generator function\n",
    "net_g.load_state_dict(torch.load(\"generator_9.pt\")) # To be taken out if one wants to start from zero\n",
    "\n",
    "net_d = Discriminator(PARAMS['e_dim']).to(working_device) # Init discriminator function\n",
    "optimizer_g = optim.Adam(net_g.parameters(), lr=PARAMS['lr_g'], betas=(PARAMS['beta1'], PARAMS['beta2']))\n",
    "optimizer_d = optim.Adam(net_d.parameters(), lr=PARAMS['lr_d'], betas=(PARAMS['beta1'], PARAMS['beta2']))\n",
    "\n",
    "epoch_step_size=PARAMS['epochs']/(PARAMS['n_lr_steps']+1) # calculate learning rate decay step size\n",
    "lr_steps=[int((i+1)*epoch_step_size) for i in range(PARAMS['n_lr_steps'])] \n",
    "print(\"Learning rate steps:\",lr_steps)\n",
    "lr_g = optim.lr_scheduler.MultiStepLR(optimizer_g, lr_steps, gamma=PARAMS['gamma'])\n",
    "lr_d = optim.lr_scheduler.MultiStepLR(optimizer_d, lr_steps, gamma=PARAMS['gamma'])\n",
    "\n",
    "training_data = load_db(min_point=-3, max_point=3) # Here works only for data being 25 2D gaussians\n",
    "train_dataset = NumpyDataset(training_data)\n",
    "train_loader = torch.utils.data.DataLoader(dataset=train_dataset,\n",
    "                                           batch_size=PARAMS['batch_size'],\n",
    "                                           shuffle=True)\n",
    "\n",
    "md_gan_training=MDGANTraining(net_d, net_g, optimizer_d,optimizer_g,PARAMS['batch_size'], PARAMS['zdim'], simplex,\n",
    "                     PARAMS['epsilon'],\n",
    "                     lambda_value,\n",
    "                     working_device)\n",
    "# Start Training Loop\n",
    "print(f\"Start training...\")\n",
    "pbar = tqdm(range(PARAMS['epochs']))\n",
    "for epoch in pbar:\n",
    "    # pbar = tqdm(train_loader)\n",
    "    for d in train_loader:\n",
    "        d = d.to(working_device)\n",
    "        d_loss = md_gan_training.update_discriminator(d)\n",
    "        g_loss = md_gan_training.update_generator()\n",
    "        pbar.set_postfix(d_loss=d_loss, g_loss=g_loss)\n",
    "\n",
    "    lr_g.step(epoch) # update Generator learning rate\n",
    "    lr_d.step(epoch) # update Discriminator learning rate"
   ]
  },
  {
   "cell_type": "markdown",
   "metadata": {
    "collapsed": false,
    "pycharm": {
     "name": "#%% md\n"
    }
   },
   "source": [
    "# Plot Samples from the Generator"
   ]
  },
  {
   "cell_type": "code",
   "execution_count": null,
   "metadata": {
    "collapsed": false,
    "pycharm": {
     "is_executing": false,
     "name": "#%%\n"
    }
   },
   "outputs": [
    {
     "data": {
      "image/png": "[encoded data removed]",
      "text/plain": [
       "<Figure size 640x480 with 1 Axes>"
      ]
     },
     "metadata": {},
     "output_type": "display_data"
    }
   ],
   "source": [
    "from matplotlib import pyplot as plt\n",
    "\n",
    "# With training\n",
    "\n",
    "g_samples = net_g(torch.randn(PARAMS['batch_size'], PARAMS['zdim']).to(working_device))\n",
    "g_samples = g_samples.cpu().detach().numpy()\n",
    "\n",
    "plt.plot(training_data[:, 0], training_data[:, 1], 'o',label='Ground Truth data samples', markersize='3')\n",
    "plt.plot(g_samples[:, 0], g_samples[:, 1], 'o',label='MD-GAN generated sample', color='red', markersize=3)\n",
    "plt.title(\"9 Ground Truth 2D Gaussians vs generated\")\n",
    "plt.legend()\n",
    "# plt.grid()\n",
    "# plt.xlabel(r'$x_o$')\n",
    "# plt.ylabel(r'$x_1$')\n",
    "plt.show() "
   ]
  },
  {
   "cell_type": "markdown",
   "metadata": {
    "collapsed": false,
    "pycharm": {
     "name": "#%% md\n"
    }
   },
   "source": [
    "# Save Generator"
   ]
  },
  {
   "cell_type": "code",
   "execution_count": 27,
   "metadata": {
    "collapsed": false,
    "pycharm": {
     "is_executing": false,
     "name": "#%%\n"
    }
   },
   "outputs": [],
   "source": [
    "torch.save(net_g.state_dict(), 'generator_9.pt')\n"
   ]
  },
  {
   "cell_type": "code",
   "execution_count": null,
   "metadata": {},
   "outputs": [],
   "source": [
    "# import torch\n",
    "# import os\n",
    "# import torchvision\n",
    "# import torch.nn.functional as F\n",
    "\n",
    "# DEVICE = torch.device(\"cuda\" if torch.cuda.is_available() else \"cpu\")\n",
    "# d = 100  # dimension of latent space\n",
    "# K = 11  # size of the output of discrimnator\n",
    "\n",
    "\n",
    "# def D_train(x, y, G, D, GM, D_optimizer, criterion):\n",
    "#     # =======================Train the discriminator=======================#\n",
    "#     D.zero_grad()\n",
    "\n",
    "#     # train discriminator on real samples\n",
    "#     x_real, y_real = x, y\n",
    "#     x_real, y_real = x_real.to(DEVICE), y_real.to(DEVICE)\n",
    "\n",
    "#     D_output_real = D(x_real)\n",
    "#     D_real_loss = criterion(D_output_real, y_real)\n",
    "\n",
    "#     k_values = torch.randint(0, K, (x.shape[0],), device=DEVICE)\n",
    "#     y = F.one_hot(k_values, num_classes=K).to(DEVICE).float()\n",
    "#     z = torch.randn(x.shape[0], d, device=DEVICE, dtype=torch.float32)\n",
    "\n",
    "#     # the vector of latent space sampled from the Gaussian Mixture\n",
    "#     z_tilde = GM(y, z)\n",
    "\n",
    "#     # Generate fake sample x_fake\n",
    "#     x_fake = G(z_tilde)\n",
    "\n",
    "#     D_output_fake = D(x_fake)\n",
    "#     target_fake = torch.full((x.shape[0],), 10, dtype=torch.long).to(DEVICE)\n",
    "#     D_fake_loss = criterion(D_output_fake, target_fake)\n",
    "\n",
    "#     # gradient backpropagation and optimization of D's parameters\n",
    "#     D_loss = D_real_loss + D_fake_loss\n",
    "#     D_loss.backward()\n",
    "#     D_optimizer.step()\n",
    "\n",
    "#     return D_loss.data.item()\n",
    "\n",
    "\n",
    "# def G_train(x, G, D, GM, G_optimizer, GM_optimizer, criterion):\n",
    "#     # =======================Train the generator=======================#\n",
    "#     G.zero_grad()\n",
    "#     GM.zero_grad()\n",
    "\n",
    "#     # representing one of the K Gaussian distributions\n",
    "#     k_values = torch.randint(0, K, (x.shape[0],), device=DEVICE)\n",
    "#     y = F.one_hot(k_values, num_classes=K).to(DEVICE).float()\n",
    "#     z = torch.randn(x.shape[0], d, device=DEVICE, dtype=torch.float32)\n",
    "\n",
    "#     # the vector of latent space sampled from the Gaussian Mixture\n",
    "#     z_tilde = GM(y, z)\n",
    "#     G_output = G(z_tilde)\n",
    "#     D_output = D(G_output)\n",
    "\n",
    "#     G_loss = criterion(D_output, k_values)\n",
    "\n",
    "#     # gradient backpropagation and optimization of G and GM's parameters\n",
    "#     G_loss.backward()\n",
    "#     G_optimizer.step()\n",
    "#     # GM is an extension of two layers of the generator\n",
    "#     GM_optimizer.step()\n",
    "\n",
    "#     return G_loss.data.item()\n",
    "\n",
    "\n",
    "# def save_models(G, D, GM, folder):\n",
    "#     torch.save(G.state_dict(), os.path.join(folder, \"G.pth\"))\n",
    "#     torch.save(D.state_dict(), os.path.join(folder, \"D.pth\"))\n",
    "#     torch.save(GM.state_dict(), os.path.join(folder, \"GM.pth\"))\n",
    "\n",
    "\n",
    "# def load_model(G, GM, folder, Discriminator=None):\n",
    "#     ckpt_G = torch.load(os.path.join(folder, \"G.pth\"))\n",
    "#     ckpt_GM = torch.load(os.path.join(folder, \"GM.pth\"))\n",
    "#     G.load_state_dict({k.replace(\"module.\", \"\"): v for k, v in ckpt_G.items()})\n",
    "#     GM.load_state_dict({k.replace(\"module.\", \"\"): v for k, v in ckpt_GM.items()})\n",
    "#     if not Discriminator == None:\n",
    "#         ckpt_D = torch.load(os.path.join(folder, \"D.pth\"))\n",
    "#         Discriminator.load_state_dict(\n",
    "#             {k.replace(\"module.\", \"\"): v for k, v in ckpt_D.items()}\n",
    "#         )\n",
    "\n",
    "\n",
    "# # Updated MNIST to PNG function\n",
    "# def save_mnist_as_png(output_folder, train=True):\n",
    "#     os.makedirs(output_folder, exist_ok=True)\n",
    "#     dataset = torchvision.datasets.MNIST(\n",
    "#         root=\"./data\",\n",
    "#         train=train,\n",
    "#         download=True,\n",
    "#         transform=torchvision.transforms.Compose([torchvision.transforms.ToTensor()]),\n",
    "#     )\n",
    "\n",
    "#     for idx, (img, label) in enumerate(dataset):\n",
    "#         img = img.squeeze(0)\n",
    "#         pil_img = torchvision.transforms.ToPILImage()(img)\n",
    "#         pil_img.save(f\"{output_folder}/image_{idx}.png\")\n",
    "\n",
    "#     print(f\"Saved {len(dataset)} images to '{output_folder}'.\")\n",
    "\n",
    "\n",
    "# def generate_fake_samples(generator, gm, num_samples, batch_size=2048):\n",
    "#     \"\"\"Function to generate fake samples using the generator\"\"\"\n",
    "#     n_samples = 0\n",
    "#     with torch.no_grad():\n",
    "#         while n_samples < num_samples:\n",
    "#             z = torch.randn(batch_size, 100).to(DEVICE)\n",
    "#             k_values = torch.randint(0, 10, (batch_size,))\n",
    "#             y = torch.eye(K)[k_values].to(DEVICE)\n",
    "#             N = torch.distributions.MultivariateNormal(torch.zeros(d), torch.eye(d))\n",
    "#             z = N.sample((batch_size,)).to(DEVICE).to(torch.float32)\n",
    "#             z_tilde = gm(y, z)\n",
    "#             x = generator(z_tilde)\n",
    "#             x = x.reshape(batch_size, 28, 28)\n",
    "#             for k in range(x.shape[0]):\n",
    "#                 if n_samples < num_samples:\n",
    "#                     torchvision.utils.save_image(\n",
    "#                         x[k : k + 1],\n",
    "#                         os.path.join(\"samples_train\", f\"{n_samples}.png\"),\n",
    "#                     )\n",
    "#                     n_samples += 1\n",
    "\n",
    "\n",
    "# if __name__ == \"__main__\":\n",
    "#     save_mnist_as_png(\"real_samples\")"
   ]
  }
 ],
 "metadata": {
  "kernelspec": {
   "display_name": "datalab",
   "language": "python",
   "name": "python3"
  },
  "language_info": {
   "codemirror_mode": {
    "name": "ipython",
    "version": 3
   },
   "file_extension": ".py",
   "mimetype": "text/x-python",
   "name": "python",
   "nbconvert_exporter": "python",
   "pygments_lexer": "ipython3",
   "version": "3.12.6"
  },
  "pycharm": {
   "stem_cell": {
    "cell_type": "raw",
    "metadata": {
     "collapsed": false
    },
    "source": []
   }
  }
 },
 "nbformat": 4,
 "nbformat_minor": 0
}
